{
 "cells": [
  {
   "cell_type": "markdown",
   "metadata": {},
   "source": [
    "## Protótipo para reconhecimento de conclusão de exercícios físicos"
   ]
  },
  {
   "cell_type": "markdown",
   "metadata": {},
   "source": [
    "### Material de apoio\n",
    "* https://medium.com/data-science-br/reconhecimento-facial-em-python-com-a-biblioteca-opencv-be500c3ebcb3\n",
    "* https://sempreupdate.com.br/instalando-opencv-3-x-no-ubuntu/\n",
    "* http://www.codebind.com/cpp-tutorial/install-opencv-ubuntu-cpp/\n",
    "* https://www.geeksforgeeks.org/car-driving-using-hand-detection-in-python/\n",
    "* https://github.com/Aravindlivewire/Opencv"
   ]
  },
  {
   "cell_type": "markdown",
   "metadata": {},
   "source": [
    "### Importando bibliotecas que serão utilizadas"
   ]
  },
  {
   "cell_type": "code",
   "execution_count": 1,
   "metadata": {},
   "outputs": [],
   "source": [
    "import cv2\n",
    "import os"
   ]
  },
  {
   "cell_type": "markdown",
   "metadata": {},
   "source": [
    "### Informações\n",
    "* frame = imagem capturada\n",
    "* ret = binário indicando se uma imagem foi obtida"
   ]
  },
  {
   "cell_type": "markdown",
   "metadata": {},
   "source": [
    "### Caminho do arquivo da biblioteca OpenCV"
   ]
  },
  {
   "cell_type": "code",
   "execution_count": 2,
   "metadata": {},
   "outputs": [],
   "source": [
    "cv2_path = os.path.dirname(cv2.__file__)"
   ]
  },
  {
   "cell_type": "markdown",
   "metadata": {},
   "source": [
    "### Função para buscar o arquivo desejado"
   ]
  },
  {
   "cell_type": "code",
   "execution_count": 3,
   "metadata": {},
   "outputs": [],
   "source": [
    "def find(name, path):\n",
    "    for root, dirs, files in os.walk(path):\n",
    "        if (name in files) or (name in dirs):\n",
    "            return os.path.join(root, name)\n",
    "    # Caso nao encontre, retorna para diretórios anteriores\n",
    "    return find(name, os.path.dirname(path))"
   ]
  },
  {
   "cell_type": "markdown",
   "metadata": {},
   "source": [
    "### Importando modelos pré-treinados para identificar rostos e mãos"
   ]
  },
  {
   "cell_type": "code",
   "execution_count": 4,
   "metadata": {},
   "outputs": [],
   "source": [
    "face_path = find('haarcascade_frontalface_alt2.xml', cv2_path)"
   ]
  },
  {
   "cell_type": "code",
   "execution_count": 5,
   "metadata": {},
   "outputs": [],
   "source": [
    "hand_path = find('palm.xml', cv2_path)"
   ]
  },
  {
   "cell_type": "markdown",
   "metadata": {},
   "source": [
    "### Inicializando os modelos"
   ]
  },
  {
   "cell_type": "code",
   "execution_count": 6,
   "metadata": {},
   "outputs": [],
   "source": [
    "model_face = cv2.CascadeClassifier(face_path)\n",
    "model_hand = cv2.CascadeClassifier(hand_path) "
   ]
  },
  {
   "cell_type": "markdown",
   "metadata": {},
   "source": [
    "### Captura em tempo real"
   ]
  },
  {
   "cell_type": "code",
   "execution_count": 7,
   "metadata": {},
   "outputs": [],
   "source": [
    "## Inicializando a webcam\n",
    "webcam = cv2.VideoCapture(0)"
   ]
  },
  {
   "cell_type": "code",
   "execution_count": 8,
   "metadata": {},
   "outputs": [
    {
     "data": {
      "text/plain": [
       "-1"
      ]
     },
     "execution_count": 8,
     "metadata": {},
     "output_type": "execute_result"
    }
   ],
   "source": [
    "while(not cv2.waitKey(20) & 0xFF == ord('q')):\n",
    "    ## Capturar frame\n",
    "    ret, frame = webcam.read()\n",
    "    \n",
    "    ## Exibir\n",
    "    cv2.imshow('Tela',frame)\n",
    "    \n",
    "    ## Converter para tons de cinza,\n",
    "    ## pois o modelo só aceita imagens em tons de cinza\n",
    "    gray = cv2.cvtColor(frame, cv2.COLOR_BGR2GRAY)\n",
    "    \n",
    "    ## Detectar rostos e mãos\n",
    "    ## Aqui é retornado os pontos do rosto detectado\n",
    "    faces = model_face.detectMultiScale(gray)\n",
    "    hands = model_hand.detectMultiScale(gray)\n",
    "    \n",
    "    ## Construir retângulos\n",
    "    for x, y, w, h in faces:\n",
    "        cv2.rectangle(frame, (x, y), (x+w, y+h), (255, 0, 0))\n",
    "        \n",
    "    for x, y, w, h in hands:\n",
    "        cv2.rectangle(frame, (x, y), (x+w, y+h), (0, 0, 255))\n",
    "    \n",
    "    # Visualizar\n",
    "    cv2.imshow('Tela',frame)\n",
    "    \n",
    "webcam.release()\n",
    "## Comando para fechar a imagem\n",
    "cv2.destroyAllWindows()\n",
    "\n",
    "## Atualiza o fechamento ou exibição da imagem\n",
    "## Aguarda que uma tecla seja pressionada...\n",
    "cv2.waitKey(1)"
   ]
  }
 ],
 "metadata": {
  "kernelspec": {
   "display_name": "Python 3",
   "language": "python",
   "name": "python3"
  },
  "language_info": {
   "codemirror_mode": {
    "name": "ipython",
    "version": 3
   },
   "file_extension": ".py",
   "mimetype": "text/x-python",
   "name": "python",
   "nbconvert_exporter": "python",
   "pygments_lexer": "ipython3",
   "version": "3.7.6"
  }
 },
 "nbformat": 4,
 "nbformat_minor": 4
}
